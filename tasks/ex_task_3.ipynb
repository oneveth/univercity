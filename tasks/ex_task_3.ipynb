{
  "cells": [
    {
      "cell_type": "markdown",
      "metadata": {
        "id": "view-in-github",
        "colab_type": "text"
      },
      "source": [
        "<a href=\"https://colab.research.google.com/github/oneveth/univercity/blob/main/tasks/ex_task_3.ipynb\" target=\"_parent\"><img src=\"https://colab.research.google.com/assets/colab-badge.svg\" alt=\"Open In Colab\"/></a>"
      ]
    },
    {
      "cell_type": "markdown",
      "id": "bb332bf9",
      "metadata": {
        "id": "bb332bf9"
      },
      "source": [
        "# **Дополнительное задание №3. Обработка исключений и работа с текстовыми файлами**"
      ]
    },
    {
      "cell_type": "markdown",
      "id": "aa6808db",
      "metadata": {
        "id": "aa6808db"
      },
      "source": [
        "**БАЗА:**\n",
        "\n",
        "- **Обработка исключений** позволяет перехватывать и обрабатывать ошибки, возникающие при выполнении программы, предотвращая её аварийное завершение.\n",
        "- **Работа с файлами** - важный навык для чтения, записи и обработки текстовой информации в Python.\n",
        "\n",
        "---"
      ]
    },
    {
      "cell_type": "markdown",
      "id": "2478deca",
      "metadata": {
        "id": "2478deca"
      },
      "source": [
        "## **I. Обработка исключений**"
      ]
    },
    {
      "cell_type": "markdown",
      "id": "0ab0b851",
      "metadata": {
        "id": "0ab0b851"
      },
      "source": [
        "### **Пункт №1. Обработка некорректного индекса (IndexError)**"
      ]
    },
    {
      "cell_type": "markdown",
      "id": "46e69e1f",
      "metadata": {
        "id": "46e69e1f"
      },
      "source": [
        "Создайте список из нескольких элементов (например, [10, 20, 30]). Попросите пользователя ввести индекс элемента, который нужно вывести. Если пользователь введёт индекс, выходящий за границы списка, перехватите IndexError и сообщите об этом.\n",
        "\n",
        "**ОБЯЗАТЕЛЬНО:**\n",
        "- Создайте список из минимум 5 элементов\n",
        "- Покажите содержимое списка перед работой\n",
        "- Протестируйте минимум 4 случая (корректный индекс, отрицательный, слишком большой, нечисловое значение)"
      ]
    },
    {
      "cell_type": "code",
      "execution_count": 16,
      "id": "724c5954",
      "metadata": {
        "id": "724c5954",
        "colab": {
          "base_uri": "https://localhost:8080/"
        },
        "outputId": "abdb2afb-7aba-4a97-87ea-77a0736144a7"
      },
      "outputs": [
        {
          "output_type": "stream",
          "name": "stdout",
          "text": [
            "[10, 20, 30, 40, 50]\n",
            "\n",
            "enter an index: 3\n",
            "40\n",
            "\n",
            "enter an index: -3\n",
            "Введите корректный индекс (0≤i≤4).\n",
            "\n",
            "enter an index: 9\n",
            "Введите корректный индекс (0≤i≤4).\n",
            "\n",
            "enter an index: f\n",
            "Введите корректный индекс (0≤i≤4).\n",
            "\n"
          ]
        }
      ],
      "source": [
        "# Ваш код и демонстрация работы\n",
        "l = [10, 20, 30, 40, 50]\n",
        "itr = 0\n",
        "print(f'{l}\\n')\n",
        "while itr != 4:\n",
        "  itr+=1\n",
        "  try:\n",
        "    i = int(input('enter an index: '))\n",
        "    if i < 0:\n",
        "      print('Введите корректный индекс (0≤i≤4).\\n')\n",
        "    else:\n",
        "      print(f'{l[i]}\\n')\n",
        "  except IndexError:\n",
        "    print('Введите корректный индекс (0≤i≤4).\\n')\n",
        "  except ValueError:\n",
        "    print('Введите корректный индекс (0≤i≤4).\\n')\n",
        ""
      ]
    },
    {
      "cell_type": "markdown",
      "id": "7ac84eec",
      "metadata": {
        "id": "7ac84eec"
      },
      "source": [
        "---"
      ]
    },
    {
      "cell_type": "markdown",
      "id": "f8bfb6e1",
      "metadata": {
        "id": "f8bfb6e1"
      },
      "source": [
        "### **Пункт №2. Обработка исключений в цикле**"
      ]
    },
    {
      "cell_type": "markdown",
      "id": "63c3b706",
      "metadata": {
        "id": "63c3b706"
      },
      "source": [
        "Напишите программу, которая запрашивает у пользователя числа и добавляет их в список.\n",
        "- Если пользователь вводит некорректные данные, программа должна выводить сообщение об ошибке и продолжать работу.\n",
        "- Для выхода из программы пользователь должен ввести \"стоп\".\n",
        "\n",
        "**ОБЯЗАТЕЛЬНО:**\n",
        "- Покажите процесс ввода минимум 7 значений (включая ошибочные)\n",
        "- Выведите финальный список и статистику (сколько чисел введено успешно, сколько ошибок)"
      ]
    },
    {
      "cell_type": "markdown",
      "source": [
        "\n",
        "\n",
        "```\n",
        "# Пример:\n",
        "# Введите число: 10\n",
        "# Введите число: текст (Ошибка: это не число)\n",
        "# Введите число: стоп\n",
        "# Итоговый список: [10]\n",
        "```\n",
        "\n"
      ],
      "metadata": {
        "id": "aiWaEPOuoHDS"
      },
      "id": "aiWaEPOuoHDS"
    },
    {
      "cell_type": "code",
      "execution_count": 21,
      "id": "31448e09",
      "metadata": {
        "id": "31448e09",
        "colab": {
          "base_uri": "https://localhost:8080/"
        },
        "outputId": "6809e85a-4393-4207-9e0b-4e50b528c358"
      },
      "outputs": [
        {
          "output_type": "stream",
          "name": "stdout",
          "text": [
            "Введите число: 30\n",
            "Введите число: -14\n",
            "Введите число: a\n",
            "\n",
            "Ошибка: это не число.\n",
            "\n",
            "Введите число: f\n",
            "\n",
            "Ошибка: это не число.\n",
            "\n",
            "Введите число: 7\n",
            "Введите число: 9\n",
            "Введите число: 8\n",
            "Введите число: 0\n",
            "Введите число: стоп\n",
            "\n",
            "['30', '-14', '7', '9', '8', '0']\n",
            "\n",
            "Статистика: \n",
            " Кол-во успешных вводов: 6;\n",
            " Кол-во ошибок: 2.\n",
            "\n"
          ]
        }
      ],
      "source": [
        "# Ваш код и демонстрация работы\n",
        "l = []\n",
        "fl = 0\n",
        "while True:\n",
        "  i = input('Введите число: ')\n",
        "  if i.isdigit() or (i.startswith('-') and i[1:].isdigit()):\n",
        "    l.append(i)\n",
        "  elif i.lower() == 'стоп':\n",
        "    break\n",
        "  else:\n",
        "    print(Exception('\\nОшибка: это не число.\\n'))\n",
        "    fl += 1\n",
        "print(f'\\n{l}')\n",
        "print(f'\\nСтатистика: \\n Кол-во успешных вводов: {len(l)};\\n Кол-во ошибок: {fl}.\\n')\n",
        "\n"
      ]
    },
    {
      "cell_type": "markdown",
      "metadata": {
        "id": "Yv-FNYTEp0vV"
      },
      "source": [
        "---"
      ],
      "id": "Yv-FNYTEp0vV"
    },
    {
      "cell_type": "markdown",
      "id": "5971f85d",
      "metadata": {
        "id": "5971f85d"
      },
      "source": [
        "### **Пункт №3**"
      ]
    },
    {
      "cell_type": "markdown",
      "id": "b1457074",
      "metadata": {
        "id": "b1457074"
      },
      "source": [
        "Создайте функцию `get_list_element(lst, index)`, которая безопасно извлекает элемент списка по индексу с использованием блоков `try`, `except`, `else` и `finally`.\n",
        "\n",
        "Функция должна:\n",
        "- Обрабатывать выход за пределы списка\n",
        "- Обрабатывать некорректный тип индекса\n",
        "- Выводить сообщение о попытке доступа в блоке `finally`\n",
        "\n",
        "**ОБЯЗАТЕЛЬНО:**\n",
        "- Выведите результаты для минимум 4 различных случаев (успешный доступ, выход за границы, отрицательный индекс, нечисловой индекс)\n",
        "- Покажите, что блок `finally` выполняется всегда\n",
        "\n",
        "```python\n",
        "# Пример использования:\n",
        "my_list = [1, 2, 3, 4, 5]\n",
        "get_list_element(my_list, 2)   # Вывод: \"Элемент: 3\", \"Попытка доступа завершена\"\n",
        "get_list_element(my_list, 10)  # Вывод: \"Индекс вне диапазона\", \"Попытка доступа завершена\"\n",
        "```"
      ]
    },
    {
      "cell_type": "code",
      "execution_count": 29,
      "id": "1c067cf3",
      "metadata": {
        "id": "1c067cf3",
        "colab": {
          "base_uri": "https://localhost:8080/"
        },
        "outputId": "a1cd6d0e-c7d0-4005-ccb2-22614ab59d17"
      },
      "outputs": [
        {
          "output_type": "stream",
          "name": "stdout",
          "text": [
            "Элемент: 3.\n",
            "Попытка доступа завершена.\n",
            "\n",
            "Ошибка: введено нечисловое значение.\n",
            "Попытка доступа завершена.\n",
            "\n",
            "Ошибка: индекс вне диапазона.\n",
            "Попытка доступа завершена.\n",
            "\n",
            "Элемент: 1.\n",
            "Попытка доступа завершена.\n",
            "\n"
          ]
        }
      ],
      "source": [
        "# Ваш код и демонстрация работы\n",
        "l = [1, 2, 3, 4, 5]\n",
        "def get_list_element(lst, indx):\n",
        "  try:\n",
        "    print(f'Элемент: {lst[indx]}.')\n",
        "  except IndexError:\n",
        "    print('Ошибка: индекс вне диапазона.')\n",
        "  except Exception as e:\n",
        "    print('Ошибка: введено нечисловое значение.')\n",
        "  finally:\n",
        "    print('Попытка доступа завершена.\\n')\n",
        "\n",
        "get_list_element(l, 2)\n",
        "get_list_element(l, 'a')\n",
        "get_list_element(l, 10)\n",
        "get_list_element(l, 0)"
      ]
    },
    {
      "cell_type": "markdown",
      "id": "b5bb39c7",
      "metadata": {
        "id": "b5bb39c7"
      },
      "source": [
        "---"
      ]
    },
    {
      "cell_type": "markdown",
      "id": "b0972d59",
      "metadata": {
        "id": "b0972d59"
      },
      "source": [
        "## **II. Работа с текстовыми файлами**"
      ]
    },
    {
      "cell_type": "markdown",
      "id": "35729435",
      "metadata": {
        "id": "35729435"
      },
      "source": [
        "### **Пункт №1. Запись в файл**"
      ]
    },
    {
      "cell_type": "markdown",
      "id": "3121365f",
      "metadata": {
        "id": "3121365f"
      },
      "source": [
        "Напишите программу, которая запрашивает у пользователя строку и записывает её в файл output.txt в режиме дозаписи.\n",
        "\n",
        "**ОБЯЗАТЕЛЬНО:**\n",
        "- Запросите у пользователя минимум 3 строки\n",
        "- Покажите содержимое файла после записи"
      ]
    },
    {
      "cell_type": "code",
      "execution_count": 49,
      "id": "cbce6c5f",
      "metadata": {
        "id": "cbce6c5f",
        "colab": {
          "base_uri": "https://localhost:8080/"
        },
        "outputId": "df2fe172-bac3-4ed1-b9b0-3de1eca69242"
      },
      "outputs": [
        {
          "output_type": "stream",
          "name": "stdout",
          "text": [
            "СТРОКА: kk;ljjk\n",
            "СТРОКА: 12312123\n",
            "СТРОКА: qwqweqwe\n",
            "kk;ljjk\n",
            "12312123\n",
            "qwqweqwe\n"
          ]
        }
      ],
      "source": [
        "# Ваш код и демонстрация работы\n",
        "ff = open(file='output.txt', mode='w+', encoding='utf8')\n",
        "for i in range(3):\n",
        "  ff.write(input('СТРОКА: ')+'\\n')\n",
        "ff.seek(0)\n",
        "for x in ff.readlines():\n",
        "  print(x, end = '')\n",
        "ff.close()"
      ]
    },
    {
      "cell_type": "markdown",
      "id": "361b3d2b",
      "metadata": {
        "id": "361b3d2b"
      },
      "source": [
        "---"
      ]
    },
    {
      "cell_type": "markdown",
      "id": "cce864b4",
      "metadata": {
        "id": "cce864b4"
      },
      "source": [
        "### **Пункт №2. Чтение из файла**"
      ]
    },
    {
      "cell_type": "markdown",
      "id": "4fc83b82",
      "metadata": {
        "id": "4fc83b82"
      },
      "source": [
        "Напишите программу, которая открывает файл output.txt и выводит его содержимое на экран.\n",
        "\n",
        "**ОБЯЗАТЕЛЬНО:**\n",
        "- Создайте файл с минимум 5 строками текста\n",
        "- Покажите содержимое файла целиком\n",
        "- Обработайте случай отсутствующего файла"
      ]
    },
    {
      "cell_type": "code",
      "execution_count": 55,
      "id": "df27a986",
      "metadata": {
        "id": "df27a986",
        "colab": {
          "base_uri": "https://localhost:8080/"
        },
        "outputId": "9370a205-7fa1-4e37-a8ae-4629a2cfb79c"
      },
      "outputs": [
        {
          "output_type": "stream",
          "name": "stdout",
          "text": [
            "str1\n",
            "str2\n",
            "str3\n",
            "str4\n",
            "str5\n",
            "\n"
          ]
        }
      ],
      "source": [
        "# Ваш код и демонстрация работы\n",
        "try:\n",
        "  ff = open(file='output.txt', mode='w+')\n",
        "  for i in range(0,5): ff.write(f'str{i+1}\\n')\n",
        "  ff.seek(0)\n",
        "  print(ff.read())\n",
        "  ff.close()\n",
        "except FileNotFoundError:\n",
        "  print('Файл не существует.')\n"
      ]
    },
    {
      "cell_type": "markdown",
      "id": "2be296a2",
      "metadata": {
        "id": "2be296a2"
      },
      "source": [
        "---"
      ]
    },
    {
      "cell_type": "markdown",
      "id": "045696ba",
      "metadata": {
        "id": "045696ba"
      },
      "source": [
        "### **Пункт №3. Подсчет строк в файле**"
      ]
    },
    {
      "cell_type": "markdown",
      "id": "570ac3e9",
      "metadata": {
        "id": "570ac3e9"
      },
      "source": [
        "Напишите программу, которая открывает файл output.txt и подсчитывает количество строк в нём.\n",
        "\n",
        "**ОБЯЗАТЕЛЬНО:**\n",
        "- Создайте тестовый файл с известным количеством строк (минимум 10)\n",
        "- Покажите первые 3 строки файла\n",
        "- Выведите общее количество строк\n",
        "- Выведите количество непустых строк"
      ]
    },
    {
      "cell_type": "code",
      "execution_count": 16,
      "id": "84aa205a",
      "metadata": {
        "id": "84aa205a",
        "colab": {
          "base_uri": "https://localhost:8080/"
        },
        "outputId": "37a69e0d-a394-431b-ad51-e8f3da6d1235"
      },
      "outputs": [
        {
          "output_type": "stream",
          "name": "stdout",
          "text": [
            "Первые три строки: \n",
            "str1\n",
            "str2\n",
            "str3\n",
            "\n",
            "Всего строк: 10\n",
            "\n",
            "Всего непустых строк: 10\n"
          ]
        }
      ],
      "source": [
        "# Ваш код и демонстрация работы\n",
        "f = open(file='output.txt', mode='w+')\n",
        "for i in range(0,10): f.write(f'str{i+1}\\n')\n",
        "\n",
        "f.seek(0)\n",
        "print('Первые три строки: ')\n",
        "for i in range(0, 3): print(f.readline(), end='')\n",
        "\n",
        "f.seek(0)\n",
        "print(f'\\nВсего строк: {len(f.readlines())}')\n",
        "\n",
        "f.seek(0)\n",
        "nl = [i for i in f if i]\n",
        "print(f'\\nВсего непустых строк: {len(nl)}')\n",
        "f.close()"
      ]
    },
    {
      "cell_type": "markdown",
      "id": "94c6dcb0",
      "metadata": {
        "id": "94c6dcb0"
      },
      "source": [
        "---"
      ]
    },
    {
      "cell_type": "markdown",
      "id": "56f2a74e",
      "metadata": {
        "id": "56f2a74e"
      },
      "source": [
        "### **Пункт №4. Копирование содержимого файла**"
      ]
    },
    {
      "cell_type": "markdown",
      "id": "ed736046",
      "metadata": {
        "id": "ed736046"
      },
      "source": [
        "Напишите программу, которая копирует содержимое файла input.txt в файл output.txt.\n",
        "\n",
        "**ОБЯЗАТЕЛЬНО:**\n",
        "- Создайте исходный файл с тестовым содержимым (минимум 5 строк)\n",
        "- Покажите содержимое исходного файла\n",
        "- Выполните копирование\n",
        "- Покажите содержимое скопированного файла\n",
        "- Обработайте случай отсутствия исходного файла"
      ]
    },
    {
      "cell_type": "code",
      "execution_count": 26,
      "id": "31bd8a06",
      "metadata": {
        "id": "31bd8a06",
        "colab": {
          "base_uri": "https://localhost:8080/"
        },
        "outputId": "dea18d58-2e24-445a-9e9f-5e4cc587b6e5"
      },
      "outputs": [
        {
          "output_type": "stream",
          "name": "stdout",
          "text": [
            "Содержимое исходного файла (input.txt):\n",
            "str1\n",
            "str2\n",
            "str3\n",
            "str4\n",
            "str5\n",
            "\n",
            "\n",
            "Содержимое нового файла (output.txt):\n",
            "str1\n",
            "str2\n",
            "str3\n",
            "str4\n",
            "str5\n",
            "\n",
            "\n",
            "Содержимое скопированного файла (input.txt):\n",
            "str1\n",
            "str2\n",
            "str3\n",
            "str4\n",
            "str5\n",
            "\n"
          ]
        }
      ],
      "source": [
        "# Ваш код и демонстрация работы\n",
        "fi = open(file='input.txt', mode='w+')\n",
        "fo = open(file='output.txt', mode='w+')\n",
        "for i in range(0,5): fi.write(f'str{i+1}\\n')\n",
        "\n",
        "try:\n",
        "  fi.seek(0)\n",
        "  print('Содержимое исходного файла (input.txt):\\n'+fi.read())\n",
        "\n",
        "  fi.seek(0)\n",
        "  fo.seek(0)\n",
        "  fo.writelines(fi.readlines())\n",
        "\n",
        "  fi.seek(0)\n",
        "  fo.seek(0)\n",
        "  print('\\nСодержимое нового файла (output.txt):\\n'+fo.read())\n",
        "  print('\\nСодержимое скопированного файла (input.txt):\\n'+fi.read())\n",
        "\n",
        "  fi.close()\n",
        "  fo.close()\n",
        "\n",
        "except Exception as e:\n",
        "  print('Исходный файл отсутствует.')\n"
      ]
    },
    {
      "cell_type": "markdown",
      "id": "2f7c8ee5",
      "metadata": {
        "id": "2f7c8ee5"
      },
      "source": [
        "---"
      ]
    },
    {
      "cell_type": "markdown",
      "id": "70ee398b",
      "metadata": {
        "id": "70ee398b"
      },
      "source": [
        "### **Пункт №5. Поиск слова в файле**"
      ]
    },
    {
      "cell_type": "markdown",
      "id": "c67f8987",
      "metadata": {
        "id": "c67f8987"
      },
      "source": [
        "Напишите программу, которая открывает файл output.txt и проверяет, содержится ли в нём слово, введённое пользователем.\n",
        "\n",
        "**ОБЯЗАТЕЛЬНО:**\n",
        "- Создайте файл с минимум 10 строками текста\n",
        "- Покажите содержимое файла\n",
        "- Протестируйте поиск минимум 5 различных слов\n",
        "- Выведите номера строк, где найдено слово\n",
        "- Покажите количество вхождений слова"
      ]
    },
    {
      "cell_type": "code",
      "execution_count": 54,
      "id": "d961bbf3",
      "metadata": {
        "id": "d961bbf3",
        "colab": {
          "base_uri": "https://localhost:8080/"
        },
        "outputId": "80c3dbec-6363-4bc2-9aea-81cc61e21651"
      },
      "outputs": [
        {
          "output_type": "stream",
          "name": "stdout",
          "text": [
            "Содержимое исходного файла (input.txt):\n",
            "str1\n",
            "str2\n",
            "str3\n",
            "str4\n",
            "str5\n",
            "str6\n",
            "str7\n",
            "str8\n",
            "str9\n",
            "str10\n",
            "\n",
            "\n",
            "Введите слово: str3\n",
            "\n",
            "  Номера строк, в которых содержится слово: [2, 10, 11].\n",
            "  Кол-во вхождений слова: 3.\n",
            "\n",
            "Введите слово: str1\n",
            "\n",
            "  Номера строк, в которых содержится слово: [0].\n",
            "  Кол-во вхождений слова: 1.\n",
            "\n",
            "Введите слово: str5\n",
            "\n",
            "  Номера строк, в которых содержится слово: [4].\n",
            "  Кол-во вхождений слова: 1.\n",
            "\n",
            "Введите слово: str\n",
            "\n",
            "  Не найдено.\n",
            "\n",
            "Введите слово: t\n",
            "\n",
            "  Не найдено.\n",
            "\n",
            "Введите слово: r\n",
            "\n",
            "  Не найдено.\n",
            "\n",
            "Введите слово: стоп\n",
            "\n",
            "  Завершение.\n"
          ]
        }
      ],
      "source": [
        "# Ваш код и демонстрация работы\n",
        "f = open(file='output.txt', mode='w+')\n",
        "for i in range(0,10): f.write(f'str{i+1}\\n')\n",
        "f.seek(0)\n",
        "print('Содержимое исходного файла (input.txt):\\n'+f.read())\n",
        "f.seek(0)\n",
        "r = f.read().split('\\n')\n",
        "r.remove('')\n",
        "r.append('str3')\n",
        "r.append('str3')\n",
        "\n",
        "while True:\n",
        "  i = input('\\nВведите слово: ')\n",
        "  if i in r:\n",
        "    l = []\n",
        "    for x in range(len(r)):\n",
        "      if r[x] == i:\n",
        "        l.append(x)\n",
        "    print(f'\\n  Номера строк, в которых содержится слово: {l}.\\n  Кол-во вхождений слова: {r.count(i)}.')\n",
        "  elif i.lower().strip() == 'стоп':\n",
        "    print('\\n  Завершение.')\n",
        "    break\n",
        "  else:\n",
        "    print('\\n  Не найдено.')\n",
        "\n",
        "  f.close()"
      ]
    },
    {
      "cell_type": "markdown",
      "id": "8d69c77a",
      "metadata": {
        "id": "8d69c77a"
      },
      "source": [
        "---"
      ]
    },
    {
      "cell_type": "markdown",
      "id": "0079e067",
      "metadata": {
        "id": "0079e067"
      },
      "source": [
        "### **Пункт №6. Чтение файла с обработкой FileNotFoundError**"
      ]
    },
    {
      "cell_type": "markdown",
      "id": "c3d27312",
      "metadata": {
        "id": "c3d27312"
      },
      "source": [
        "Напишите программу, которая запрашивает у пользователя имя файла и пытается открыть его. Если файла не существует, перехватите FileNotFoundError и выведите сообщение «Файл не найден!».\n",
        "\n",
        "**ОБЯЗАТЕЛЬНО:**\n",
        "- Протестируйте с существующим файлом\n",
        "- Протестируйте с несуществующим файлом\n",
        "- Покажите содержимое существующего файла"
      ]
    },
    {
      "cell_type": "code",
      "execution_count": 56,
      "id": "0c262bd2",
      "metadata": {
        "id": "0c262bd2",
        "colab": {
          "base_uri": "https://localhost:8080/"
        },
        "outputId": "b68b9ace-56d7-4dfb-fcb5-ab34e44d125b"
      },
      "outputs": [
        {
          "output_type": "stream",
          "name": "stdout",
          "text": [
            "Введите имя файла: input.txt\n",
            "str1\n",
            "str2\n",
            "str3\n",
            "str4\n",
            "str5\n",
            "\n",
            "Введите имя файла: adfasd\n",
            "Файл не найден!\n"
          ]
        }
      ],
      "source": [
        "# Ваш код и демонстрация работы\n",
        "c = 0\n",
        "while c != 2:\n",
        "  c += 1\n",
        "  try:\n",
        "    i = input('Введите имя файла: ').strip()\n",
        "    f = open(file=i, mode='r')\n",
        "    f.seek(0)\n",
        "    print(f.read())\n",
        "    f.close()\n",
        "  except FileNotFoundError:\n",
        "    print('Файл не найден!')"
      ]
    },
    {
      "cell_type": "markdown",
      "id": "c3258b46",
      "metadata": {
        "id": "c3258b46"
      },
      "source": [
        "---"
      ]
    },
    {
      "cell_type": "markdown",
      "id": "02e0767b",
      "metadata": {
        "id": "02e0767b"
      },
      "source": [
        "### **Пункт №7. Подсчет статистики файла**"
      ]
    },
    {
      "cell_type": "markdown",
      "id": "1c33b711",
      "metadata": {
        "id": "1c33b711"
      },
      "source": [
        "Напишите функцию `file_statistics(filename)`, которая читает текстовый файл и возвращает словарь со статистикой:\n",
        "- Количество строк\n",
        "- Количество слов\n",
        "- Количество символов (с пробелами и без)\n",
        "\n",
        "**ОБЯЗАТЕЛЬНО:**\n",
        "- Создайте тестовый файл с минимум 5 строками текста\n",
        "- Выведите содержимое файла ДО обработки\n",
        "- Выведите полученную статистику\n",
        "- Обработайте случай несуществующего файла\n",
        "\n",
        "```python\n",
        "# Создание тестового файла\n",
        "test_content = \"\"\"Первая строка текста\n",
        "Вторая строка с большим количеством слов\n",
        "Третья строка\n",
        "Четвертая строка для теста\n",
        "Пятая и последняя строка\"\"\"\n",
        "\n",
        "# Сохраните в файл и продемонстрируйте работу\n",
        "```"
      ]
    },
    {
      "cell_type": "code",
      "execution_count": 63,
      "id": "43bfd6b8",
      "metadata": {
        "id": "43bfd6b8",
        "colab": {
          "base_uri": "https://localhost:8080/"
        },
        "outputId": "f12e2062-942b-4335-8ebf-94a4052fff84"
      },
      "outputs": [
        {
          "output_type": "stream",
          "name": "stdout",
          "text": [
            "Содержимое тестового файла до обработки: \n",
            "str 1\n",
            "str 2\n",
            "str 3\n",
            "str 4\n",
            "str 5\n",
            "\n",
            "Статистика:\n",
            "{'Количество строк': 5, 'Количество слов': 11, 'Количество символов с пробелами': 25, 'Количество символов без пробелов': 20}\n",
            "\n",
            "Файл не найден.\n",
            "None\n"
          ]
        }
      ],
      "source": [
        "# Ваш код и демонстрация работы\n",
        "f1 = open('file1.txt','w+')\n",
        "for i in range(0,5): f1.write(f'str {i+1}\\n')\n",
        "f1.seek(0)\n",
        "print('Содержимое тестового файла до обработки: \\n' + f1.read())\n",
        "\n",
        "\n",
        "def file_statistics(filename):\n",
        "  try:\n",
        "    f = open(file=filename, mode='r')\n",
        "    d = {}\n",
        "    d['Количество строк'] = len(f.readlines())\n",
        "    f.seek(0)\n",
        "    d['Количество слов'] = len(f.read().replace('\\n', ' ').split(' '))\n",
        "    f.seek(0)\n",
        "    d['Количество символов с пробелами'] = len([i for i in f.read() if not i=='\\n'])\n",
        "    f.seek(0)\n",
        "    d['Количество символов без пробелов'] = len([i for i in f.read() if (not i=='\\n') and (not i==' ')])\n",
        "    f.close()\n",
        "    return d\n",
        "  except FileNotFoundError:\n",
        "    print('Файл не найден.')\n",
        "\n",
        "print('Статистика:')\n",
        "print(file_statistics('file1.txt'))\n",
        "print('')\n",
        "print(file_statistics('adfsa'))\n",
        "f1.close()"
      ]
    },
    {
      "cell_type": "markdown",
      "id": "903281dd",
      "metadata": {
        "id": "903281dd"
      },
      "source": [
        "---"
      ]
    },
    {
      "cell_type": "markdown",
      "id": "ad8b4ae4",
      "metadata": {
        "id": "ad8b4ae4"
      },
      "source": [
        "### **Пункт №8. Поиск и замена в файле**"
      ]
    },
    {
      "cell_type": "markdown",
      "id": "e5230d0a",
      "metadata": {
        "id": "e5230d0a"
      },
      "source": [
        "Напишите функцию `replace_in_file(filename, old_text, new_text)`, которая заменяет все вхождения `old_text` на `new_text` в файле и сохраняет результат в новый файл с префиксом \"modified_\".\n",
        "\n",
        "**ОБЯЗАТЕЛЬНО:**\n",
        "- Создайте файл с текстом, содержащим минимум 3 вхождения заменяемого слова\n",
        "- Выведите содержимое файла ДО замены\n",
        "- Выполните замену\n",
        "- Выведите содержимое файла ПОСЛЕ замены\n",
        "- Покажите количество произведенных замен"
      ]
    },
    {
      "cell_type": "code",
      "execution_count": 68,
      "id": "64a05e35",
      "metadata": {
        "id": "64a05e35",
        "colab": {
          "base_uri": "https://localhost:8080/"
        },
        "outputId": "56476e6f-a45d-4bda-e9d7-5b2c9e023d29"
      },
      "outputs": [
        {
          "output_type": "stream",
          "name": "stdout",
          "text": [
            "Содержимое тестового файла до обработки: \n",
            "may\n",
            "may\n",
            "app\n",
            "may\n",
            "again\n",
            "\n",
            "Содержимое нового файла после замены: \n",
            "april\n",
            "april\n",
            "app\n",
            "april\n",
            "again\n",
            "\n",
            "Количесвто произведённых замен: 3.\n"
          ]
        }
      ],
      "source": [
        "# Ваш код и демонстрация работы\n",
        "f2 = open('file2.txt', 'w+')\n",
        "f2.write('may\\nmay\\napp\\nmay\\nagain')\n",
        "f2.seek(0)\n",
        "print('Содержимое тестового файла до обработки: \\n'+f2.read())\n",
        "\n",
        "def replace_in_file(filename, old_text, new_text):\n",
        "  f = open(filename, 'r')\n",
        "  s = f.read()\n",
        "  f.close()\n",
        "  s = s.replace(old_text, new_text)\n",
        "  f = open('modified_' + filename, 'w')\n",
        "  f.write(s)\n",
        "\n",
        "replace_in_file('file2.txt', 'may', 'april')\n",
        "ff = open('modified_file2.txt', 'r')\n",
        "print('\\nСодержимое нового файла после замены: \\n'+ff.read())\n",
        "print('\\nКоличесвто произведённых замен: 3.')\n",
        "ff.close()\n",
        "f2.close()"
      ]
    },
    {
      "cell_type": "markdown",
      "id": "f77b0568",
      "metadata": {
        "id": "f77b0568"
      },
      "source": [
        "---"
      ]
    },
    {
      "cell_type": "markdown",
      "id": "79a081b1",
      "metadata": {
        "id": "79a081b1"
      },
      "source": [
        "### **Пункт №9. Объединение файлов**"
      ]
    },
    {
      "cell_type": "markdown",
      "id": "599cee3c",
      "metadata": {
        "id": "599cee3c"
      },
      "source": [
        "Создайте функцию `merge_files(file_list, output_file)`, которая объединяет содержимое нескольких текстовых файлов в один, добавляя после каждого разделитель.\n",
        "\n",
        "**ОБЯЗАТЕЛЬНО:**\n",
        "- Создайте минимум 3 файла с разным содержимым\n",
        "- Выведите содержимое КАЖДОГО исходного файла\n",
        "- Выполните объединение\n",
        "- Выведите содержимое результирующего файла"
      ]
    },
    {
      "cell_type": "code",
      "execution_count": 82,
      "id": "581b5868",
      "metadata": {
        "id": "581b5868",
        "colab": {
          "base_uri": "https://localhost:8080/"
        },
        "outputId": "47d55f61-6164-4a5f-ff17-21ac297babc5"
      },
      "outputs": [
        {
          "output_type": "stream",
          "name": "stdout",
          "text": [
            "Исходный файл no.1: \n",
            "aaa\n",
            "may\n",
            "nap\n",
            "\n",
            "Исходный файл no.2: \n",
            "april\n",
            "app\n",
            "\n",
            "Исходный файл no.3: \n",
            "ccc\n",
            "asdasd\n",
            "aaa\n",
            "may\n",
            "nap\n",
            "april\n",
            "app\n",
            "ccc\n",
            "asdasd\n",
            "\n",
            "Конечный файл: \n",
            "aaa\n",
            "may\n",
            "nap\n",
            "-------\n",
            "april\n",
            "app\n",
            "-------\n",
            "ccc\n",
            "asdasd\n",
            "-------\n",
            "\n"
          ]
        }
      ],
      "source": [
        "# Ваш код и демонстрация работы\n",
        "f1 = open('file11.txt','w+')\n",
        "f1.write('aaa\\nmay\\nnap')\n",
        "f1.seek(0)\n",
        "print(\"Исходный файл no.1: \\n\" + f1.read())\n",
        "\n",
        "f2 = open('file22.txt','w+')\n",
        "f2.write('april\\napp')\n",
        "f2.seek(0)\n",
        "print(\"\\nИсходный файл no.2: \\n\" + f2.read())\n",
        "\n",
        "f33 = open('file333.txt','w+')\n",
        "f33.seek(0)\n",
        "f33.write('ccc\\nasdasd')\n",
        "f33.seek(0)\n",
        "print('\\nИсходный файл no.3: \\n'+f33.read())\n",
        "\n",
        "def merge_files(file_list, output_file):\n",
        "  temp = ''\n",
        "  for i in file_list:\n",
        "    f = open(i, 'r')\n",
        "    temp += f.read()\n",
        "    temp += '\\n-------\\n' # Раздедитель.\n",
        "    f.seek(0)\n",
        "    for i in f.read().split('\\n'): print(i)\n",
        "  fin = open(output_file, 'w')\n",
        "  fin.write(temp)\n",
        "\n",
        "merge_files(['file11.txt', 'file22.txt', 'file333.txt'], 'finally.txt')\n",
        "final = open('finally.txt', 'r')\n",
        "final.seek(0)\n",
        "print('\\nКонечный файл: \\n'+final.read())\n",
        "f1.close()\n",
        "f2.close()\n",
        "f33.close()\n",
        "final.close()"
      ]
    },
    {
      "cell_type": "markdown",
      "id": "eb866091",
      "metadata": {
        "id": "eb866091"
      },
      "source": [
        "---"
      ]
    }
  ],
  "metadata": {
    "colab": {
      "provenance": [],
      "include_colab_link": true
    },
    "language_info": {
      "name": "python"
    },
    "kernelspec": {
      "name": "python3",
      "display_name": "Python 3"
    }
  },
  "nbformat": 4,
  "nbformat_minor": 5
}